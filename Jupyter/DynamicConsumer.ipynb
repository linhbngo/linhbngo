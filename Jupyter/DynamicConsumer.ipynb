{
 "cells": [
  {
   "cell_type": "code",
   "execution_count": 1,
   "metadata": {
    "collapsed": false
   },
   "outputs": [],
   "source": [
    "import plotly\n",
    "import pandas as pd\n",
    "import numpy as np\n",
    "\n",
    "import sys\n",
    "import logging\n",
    "import json\n",
    "from kafka import KafkaConsumer"
   ]
  },
  {
   "cell_type": "code",
   "execution_count": null,
   "metadata": {
    "collapsed": false
   },
   "outputs": [],
   "source": [
    "print plotly.__version__            # version 1.9.4 required\n",
    "plotly.offline.init_notebook_mode() # run at the start of every notebook\n",
    "i = 0\n",
    "while True:\n",
    "    plotly.offline.iplot({\n",
    "    \"data\": [{\n",
    "        \"x\": [1, 2, 3],\n",
    "        \"y\": [i+4, i+5, i+6]\n",
    "    }],\n",
    "    \"layout\": {\n",
    "        \"title\": \"hello world\"\n",
    "    }\n",
    "    })"
   ]
  },
  {
   "cell_type": "code",
   "execution_count": 3,
   "metadata": {
    "collapsed": false
   },
   "outputs": [
    {
     "name": "stdout",
     "output_type": "stream",
     "text": [
      "Start consuming ...\n",
      "@NRA @IndJournal now if only the rest of us had protection from Hillary too :/\n",
      "======== \n",
      "\n"
     ]
    }
   ],
   "source": [
    "TOPIC = \"ElectionTwitter\"\n",
    "\n",
    "consumer = KafkaConsumer(bootstrap_servers=\"dsci002.palmetto.clemson.edu:6667\",\n",
    "                                 auto_offset_reset='latest')\n",
    "consumer.subscribe([TOPIC])\n",
    "\n",
    "print(\"Start consuming ...\")\n",
    "\n",
    "for message in consumer:\n",
    "    e = json.loads(json.loads(message.value.encode('utf-8')))\n",
    "    # print message\n",
    "    print e[u'text'].encode(\"utf-8\")\n",
    "    print(\"======== \\n\")\n",
    "    #print d\n",
    "    break"
   ]
  },
  {
   "cell_type": "markdown",
   "metadata": {},
   "source": [
    "Remember BOKEH\n",
    "\n",
    "https://www.reddit.com/r/Python/comments/3odq8m/plotting_realtime_streaming_data/"
   ]
  },
  {
   "cell_type": "code",
   "execution_count": null,
   "metadata": {
    "collapsed": true
   },
   "outputs": [],
   "source": []
  }
 ],
 "metadata": {
  "kernelspec": {
   "display_name": "Anaconda 2.5.0 (Python 2)",
   "language": "python",
   "name": "anaconda_2.5.0_python2"
  },
  "language_info": {
   "codemirror_mode": {
    "name": "ipython",
    "version": 2
   },
   "file_extension": ".py",
   "mimetype": "text/x-python",
   "name": "python",
   "nbconvert_exporter": "python",
   "pygments_lexer": "ipython2",
   "version": "2.7.11"
  }
 },
 "nbformat": 4,
 "nbformat_minor": 0
}
