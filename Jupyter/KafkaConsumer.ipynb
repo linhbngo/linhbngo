{
 "cells": [
  {
   "cell_type": "markdown",
   "metadata": {},
   "source": [
    "# Kafka Consumer"
   ]
  },
  {
   "cell_type": "code",
   "execution_count": 1,
   "metadata": {
    "collapsed": true
   },
   "outputs": [],
   "source": [
    "import sys\n",
    "import logging\n",
    "import json\n",
    "\n",
    "from kafka.client import KafkaClient\n",
    "from kafka.consumer import SimpleConsumer"
   ]
  },
  {
   "cell_type": "code",
   "execution_count": null,
   "metadata": {
    "collapsed": false
   },
   "outputs": [
    {
     "name": "stderr",
     "output_type": "stream",
     "text": [
      "WARNING:kafka.consumer.simple:OffsetOutOfRangeError for testTwitter:0. Resetting partition offset...\n"
     ]
    }
   ],
   "source": [
    "kafka = KafkaClient(\"dsci002.palmetto.clemson.edu:6667\")\n",
    "\n",
    "print(\"Connected to broker ...\")\n",
    "\n",
    "TOPIC = \"testTwitter\"\n",
    "consumer = SimpleConsumer(kafka, \"my-group\", TOPIC)\n",
    "\n",
    "print(\"Start consuming ...\")\n",
    "\n",
    "for message in consumer:\n",
    "    # the content sent from the producer cannot be parsed into a JSON object.\n",
    "    # this code settles with converting it into a python dict obect instead.\n",
    "    e = json.loads(message.message.value)\n",
    "    #print d\n",
    "    print (\"\\n\")\n",
    "    print e[u'text'].encode(\"utf-8\")\n",
    "    #print(message.message)\n",
    "    #print(d)\n",
    "    print(\"======== \\n\")\n",
    "    #print d"
   ]
  },
  {
   "cell_type": "code",
   "execution_count": null,
   "metadata": {
    "collapsed": true
   },
   "outputs": [],
   "source": []
  }
 ],
 "metadata": {
  "kernelspec": {
   "display_name": "Anaconda 2.5.0 (Python 2)",
   "language": "python",
   "name": "anaconda_2.5.0_python2"
  },
  "language_info": {
   "codemirror_mode": {
    "name": "ipython",
    "version": 2
   },
   "file_extension": ".py",
   "mimetype": "text/x-python",
   "name": "python",
   "nbconvert_exporter": "python",
   "pygments_lexer": "ipython2",
   "version": "2.7.11"
  }
 },
 "nbformat": 4,
 "nbformat_minor": 0
}
