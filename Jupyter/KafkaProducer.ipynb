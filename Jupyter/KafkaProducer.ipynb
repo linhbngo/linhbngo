{
 "cells": [
  {
   "cell_type": "markdown",
   "metadata": {},
   "source": [
    "# Kafka Producer"
   ]
  },
  {
   "cell_type": "code",
   "execution_count": 6,
   "metadata": {
    "collapsed": true
   },
   "outputs": [],
   "source": [
    "import sys\n",
    "import logging\n",
    "import json\n",
    "\n",
    "from kafka.client import KafkaClient\n",
    "from kafka.producer import SimpleProducer\n",
    "from datetime import datetime\n",
    "\n",
    "from TwitterAPI import TwitterAPI"
   ]
  },
  {
   "cell_type": "code",
   "execution_count": 7,
   "metadata": {
    "collapsed": false
   },
   "outputs": [
    {
     "name": "stdout",
     "output_type": "stream",
     "text": [
      "PfS8iOgE4I1Ao0bbZ0fje66Pm\n",
      "2ORh63KdJrho5IWWiq8VzXIBMU2Dd1fEKtasqJaW0K9hPc89Ks\n",
      "374741989-xGscbglKIEFMY7MTch2vPF6qsOKsV3U7qt24k0wb\n",
      "QWLwpPFGsZ2pwbe3dxxAsLzTl9s0jF1qeQjSbl0vZcG5g\n"
     ]
    }
   ],
   "source": [
    "keyFile = open(\".cert/Twitter\")\n",
    "CONSUMER_KEY = keyFile.readline().rstrip()\n",
    "CONSUMER_SECRET = keyFile.readline().rstrip()\n",
    "ACCESS_TOKEN_KEY = keyFile.readline().rstrip()\n",
    "ACCESS_TOKEN_SECRET = keyFile.readline().rstrip()\n",
    "\n",
    "print(CONSUMER_KEY)\n",
    "print(CONSUMER_SECRET)\n",
    "print(ACCESS_TOKEN_KEY)\n",
    "print(ACCESS_TOKEN_SECRET)"
   ]
  },
  {
   "cell_type": "code",
   "execution_count": 10,
   "metadata": {
    "collapsed": true
   },
   "outputs": [],
   "source": [
    "api = TwitterAPI(CONSUMER_KEY,\n",
    "                 CONSUMER_SECRET,\n",
    "                 ACCESS_TOKEN_KEY,\n",
    "                 ACCESS_TOKEN_SECRET)\n",
    "\n",
    "TRACK_TERM = \"Clinton\"\n",
    "r = api.request('statuses/filter', {'track': TRACK_TERM})"
   ]
  },
  {
   "cell_type": "code",
   "execution_count": 11,
   "metadata": {
    "collapsed": false,
    "scrolled": true
   },
   "outputs": [
    {
     "name": "stderr",
     "output_type": "stream",
     "text": [
      "WARNING:kafka.producer:producer.stop() called, but producer is not async\n"
     ]
    },
    {
     "name": "stdout",
     "output_type": "stream",
     "text": [
      "1 707202082143473664 RT @chescaleigh: ugh. can we disagree w the GOP without being ableist? let's invest in mental health bc it's right, not to insult ppl https…\n",
      "2 707202082462240768 Bernie Sanders to Hillary Clinton: \"Excuse me, I'm talking.\"at CNN Democratic Debate https://t.co/0tQ2Y0YEEN\n",
      "3 707202083183669248 Mais quatro primárias colocam a liderança de Trump e Clinton à prova nos EUA: Terça-feira é dia de primárias n... https://t.co/IBnpzUxxhv\n",
      "4 707202084228104192 RT @YoungPPL4Bernie: Why Did @HillaryClinton Need a Private Server? The Answer Makes @BernieSanders President #FeelTheBern #BLM #Latinos  h…\n",
      "5 707202084177731584 RT @MaryMorientes: Shatter the glass ceiling! #ImWithHer Hillary CLinton #Hillaryclinton #Hillary2016 #SuperTuesday https://t.co/DUUxHqdC7K\n",
      "6 707202085473931264 politico: Trump, Clinton keep grip on leads ahead of primaries https://t.co/xbIH8e8IjT | AP Photo https://t.co/o3C3T5RQlB\n",
      "7 707202085939449857 RT @E2Tha: On the most important issues to me war, mass incarceration and education Clinton has been dead wrong time after time. #DemDebate\n",
      "8 707202085842919424 I Love Japan\n",
      "I Love Twitters\n",
      "I Love Hillary Clinton\n",
      "I Love Bernie Sanders\n",
      "#おやすみ #笑 (｡◕‿◕｡)♡\n",
      "☼ Forever Japan ☼ https://t.co/5ageJNZgpU\n",
      "9 707202087277486080 RT @meeshellfooko: Man with fake tits and wig criticises woman for not doing enough for women. Fuck off Bruce  https://t.co/734HMgdFT1\n",
      "10 707202091870097408 RT @politico: Trump, Clinton keep grip on leads ahead of primaries https://t.co/qJVF4dBKR4 | AP Photo https://t.co/ADKx6Wr683\n",
      "11 707202094239866881 RT @EricBoehlert: same argument tobacco companies used for decades--how'd that work out for them?  https://t.co/C29TkqVuNM\n",
      "12 707202095384961024 RT @williamjordann: Wowza these WaPo/ABC favorability numbers…\n",
      "\n",
      "Clinton -6\n",
      "Rubio -6\n",
      "Cruz -16\n",
      "\n",
      "Trump -37\n",
      "\n",
      "https://t.co/GXmxcVZ4s0\n",
      "13 707202095485595648 Bill:  I have NEVER had sex with that woman .. :))  .. and the BEAT-goes-on, and the Zombie Voters continue 2B zeros https://t.co/SVQsOx7Qc9\n",
      "14 707202096056107008 Trump's 'size' is now a campaign issue. How's Hillary Clinton supposed to deal with that? https://t.co/8qOxbYtH6C\n",
      "15 707202097775833089 Clinton supports a late-term abortion ban w/health &amp; safety exceptions, Sanders does not https://t.co/1yeX5hxVBl https://t.co/ZAgNqPaYW2\n",
      "16 707202098820194304 I've just posted a new blog: Trump's 'size' is now a campaign issue. How's Hillary Clinton supposed to deal with t… https://t.co/8qOxbYtH6C\n",
      "17 707202099063480320 Mississippi, Idaho and Hawaii are also holding Republican contests, while Democrats Hillary Clinton and Bernie... https://t.co/xK5Mph8tP3\n",
      "18 707202099084275713 RT @adirado29: Analysis: Hillary Clinton Denies Bernie Sanders a Win at Flint Debate - NBC News https://t.co/un1Nl72uZL\n",
      "19 707202102272118784 RT @hauey2: Another egregious attempt to disenfranchise young voters! My students are disappointed. @OHDems @OhioBATs @ohiogop  https://t.c…\n",
      "20 707202108404178945 Trump's 'size' is now a campaign issue. How's Hillary Clinton supposed to deal with that? https://t.co/HuBLJ97NEZ\n",
      "21 707202108383219712 RT @chicagotribune: Former President Bill Clinton comes to Evanston today to campaign for Hillary https://t.co/MkOQHtpMer #MorningSpin http…\n",
      "22 707202108873781248 RT @ironmagazine: Anyone supporting Hilary Clinton is a fucking idiot. Period.\n",
      "23 707202109867954176 RT @An0nKn0wledge: \"I Watched Roger and Bill Clinton Snort Cocaine at a Party With Underage Teenage Girls.\"\n",
      "~Charlene Wilson to a Court\n",
      "#Op…\n",
      "24 707202111570743296 Counterpoint: Thanks To Petty Republican Infighting Each Election Scenario Ends With Hillary Clinton Becoming ... https://t.co/JiHKronvSx\n",
      "25 707202115198971904 RT @BeverleeHughes3: YUGE Yawn! Give Bernard's campaign manager a piece of your mind, guy. Tad was a big supporter of the process. https://…\n",
      "26 707202115660345346 I was very proud to cast my vote for Hillary Rodham Clinton in the Mississippi Democratic primary.\n",
      "27 707202117870616577 RT @politico: Trump, Clinton keep grip on leads ahead of primaries https://t.co/qJVF4dBKR4 | AP Photo https://t.co/ADKx6Wr683\n",
      "28 707202119141490689 @HillaryClinton https://t.co/lUTuJ4qYTl\n",
      "29 707202119800066049 #marcomentum #IDprimary #MIprimary #HiPrimary #MSprimary Rubio only 1 tough enough 2 take down Trump/Clinton! https://t.co/1mTqsTPck5\n",
      "30 707202124170399744 RT @BernieOrBust: \"Free-trade agreements\" are Trojan horses for fascism. Yes, the F word. https://t.co/sOdhNMHByg https://t.co/ciRK8gclG9\n",
      "31 707202126045454336 @smileyt22 @wsejour @Teddyshouse2II again you are usng clinton talking points i know she never govern anything he was 4 terms mayor\n",
      "32 707202128473952256 RT @KatieCVFowler: Why Did Hillary Clinton Need a Private Server? The Answer Makes Bernie Sanders President https://t.co/rh0jFK4OFT via @Hu…\n",
      "33 707202129753186304 [VIDEO] Hillary Clinton cita Oliver Queen durante un dibattito a Flint nel Michigan \"They failed this city\" https://t.co/JCL6G7HCJ8\n",
      "34 707202130294214656 RT @MattOrtega: 2008: Hillary Clinton nominates Barack Obama. This was a great moment: https://t.co/izqePYjFAB #DemTownHall\n",
      "35 707202133876219904 RT @MABastenier: El 'sexismo' de llamar a Hillary, 'Clinton'. https://t.co/xgCGHOdKi6\n",
      "36 707202134576668672 RT @EricBoehlert: same argument tobacco companies used for decades--how'd that work out for them?  https://t.co/C29TkqVuNM\n",
      "37 707202136942096384 RT @eelawl1966: Still want HILLARY to be nominated? Check out this list of SCANDALS Republicans will use in the general election. \n",
      "https://…\n",
      "38 707202138133426176 “@TedKottler: Do Feminists Support Coups? Honduran Women on Hillary Clinton https://t.co/aHH8EVuyOm” &gt;&gt;&gt;#Honduras\n",
      "39 707202142164094976 RT @GottaLaff: @MMFlint See this? NRA Lobbyist Will Co-Host Hillary Clinton Fundraiser https://t.co/LLOWSlohyP\n",
      "40 707202143963488259 RT @P0TUSTrump: A vote for Hillary Clinton is a vote to take America backwards.\n",
      "We need to move forward, not back.\n",
      "#NeverHillary https://t.…\n",
      "41 707202146199080961 \"Clinton on Apple: there must be 'some way to avoid breaking data encryption’\" https://t.co/pBarY7t3dA #tech #feedly\n",
      "42 707202149340606464 RT @WPJohnWagner: WaPo analysis: Clinton, on private server, wrote 104 emails the government says are classified https://t.co/ESxrxpTDFz @p…\n",
      "43 707202149902589954 RT @williamjordann: Wowza these WaPo/ABC favorability numbers…\n",
      "\n",
      "Clinton -6\n",
      "Rubio -6\n",
      "Cruz -16\n",
      "\n",
      "Trump -37\n",
      "\n",
      "https://t.co/GXmxcVZ4s0\n",
      "44 707202150707757058 RT @ashelia: Stop coddling Clinton, she's an established politician and debater. She can handle being interrupted, any presidential candida…\n",
      "45 707202154868543488 RT @ABC: Hillary Clinton on Trump: \"We will not let a person like that ever become president of US.\" https://t.co/gd3lxhT4iM https://t.co/4…\n",
      "46 707202154960916481 I...I don't think Hilary is the best person to give her input on this matter. https://t.co/tLfVVOejcO\n",
      "47 707202156517048320 RT @dcexaminer: Hillary Clinton refuses to release Wall Street transcripts, again https://t.co/TKbrmerz60 #DemDebate https://t.co/n9OSfaA8EG\n",
      "48 707202157892599808 RT @ESotomayorM: #Clinton left office with the highest end-of-office approval rating for a US president since World War II #Hillary https:/…\n",
      "49 707202158714703873 RT @HillaryIn2016: You Might Not Have Noticed, but Hillary Clinton Has a Really Progressive Tax Plan https://t.co/Itr0nVZdC3 #Hillary2016 #…\n",
      "50 707202159209742336 RT @SEI4BS: #MichiganPrimary get out and vote! Be a part of history! #MIPrimary  https://t.co/cOzlpu0yHe\n",
      "51 707202159939555328 Citizens United Sues For Clinton Campaign Finance Director’s State Dept. Emails https://t.co/L618FCWWwC via @dailycaller\n",
      "52 707202164704333824 Boston and Gateway Cities flexed their political muscles, propelled Clinton in MA. https://t.co/6SjXprK7Bo https://t.co/GgdILsRdmY\n",
      "53 707202167321587712 Key Georgia Democrat Switches From Clinton To Sanders https://t.co/UXWQcaSGp6\n",
      "54 707202168730861568 Burke Patch: Clinton Backs Increasing Virginia's Minimum Wage https://t.co/QErltAbgev\n",
      "55 707202170010124288 RT @ShaunKing: You HAVE to read this\n",
      "\n",
      "How @TheDemocrats &amp; political elites have completely rigged this primary for Hillary Clinton\n",
      "\n",
      "https:/…\n",
      "56 707202169879957504 But does it? In the business world \"office assistant\" or \"sales support\" is used! \"Secretary\" is like \"Stewardess\" https://t.co/Z0Yt1dHpWJ\n",
      "57 707202170928701441 RT @andersoncooper: If you think your candidate got cheated on talk time at last night's debate. Clinton spoke for 42:11. Sanders spoke for…\n",
      "58 707202170857394177 RT @politico: Trump, Clinton keep grip on leads ahead of primaries https://t.co/qJVF4dBKR4 | AP Photo https://t.co/ADKx6Wr683\n",
      "59 707202172753207296 Key Georgia Democrat Switches From Clinton To Sanders https://t.co/O3Djhq04YO\n",
      "60 707202172790968321 RT @ABC: Hillary Clinton on Trump: \"We will not let a person like that ever become president of US.\" https://t.co/gd3lxhT4iM https://t.co/4…\n",
      "61 707202173579468800 RT @davidsirota: Bill Clinton slams idea of free public college, because he says it wont help private schools https://t.co/5km9ZU8Rts https…\n",
      "62 707202177287254016 RT @iAmTerrace: \"It's not a nude, if I can't see your nipples &amp; ass.\" -Bill Clinton, 1998\n",
      "63 707202179778543616 RT @E2Tha: On the most important issues to me war, mass incarceration and education Clinton has been dead wrong time after time. #DemDebate\n",
      "64 707202179891916801 @dlacalle ha visto usted La gran apuesta? que opinion le merece? No se extraña que no se mente siquiera a Fannie Mae o Clinton y si al otro?\n",
      "65 707202181372493824 Hillary Clinton weighs in on Apple’s FBI standoff. Kind of.: https://t.co/8UURyEpFcO\n",
      "66 707202184560115715 Trump, Clinton aim for Michigan wins to expand leads in White House race https://t.co/x5WkACFyZm via @Reuters\n",
      "67 707202185419956224 @greta @Dennis_Kucinich @HillaryClinton @FoxNews.  Hillary Clinton is no more trustworthy, than Jane Fonda is a patriot !!!\n",
      "68 707202191740637184 RT @dcexaminer: Hillary Clinton refuses to release Wall Street transcripts, again https://t.co/TKbrmerz60 #DemDebate https://t.co/n9OSfaA8EG\n",
      "69 707202192990609410 RT @Africanfighter: LMAO!!! Bernie's lead among young voters &amp; millenials has vanished accoring to new NBC poll #MichiganPrimary  https://t…\n",
      "70 707202196694241280 RT @nancyflanagan: Where Does Hillary Clinton Stand on Education Reform? https://t.co/1s88RmowW6 Excellent question. Nobody really knows.\n",
      "71 707202197013045248 RT @cristinalaila1: ☪Hillary emails discussed cooperating, increased investment with Muslim Brotherhood #TCOT  https://t.co/ZzHSycDvfk http…\n",
      "72 707202199064080384 RT @ChiariGirl357: Joe Biden: Middle class was devastated during Clinton years\n",
      "#DemDebate #MIPrimary #MSPrimary #BernieOrBust #VOTE \n",
      "https:…\n",
      "73 707202203853922304 I'm laughing. It's funny to hear the word good connected to anything Hilary https://t.co/eq3o7CN68N\n",
      "74 707202204072087552 URGENT  WANTED FOR MURDER. Hillary Clinton\n",
      "75 707202206735282176 RT @DayJojo771980: #ImWithHer #HillYes #WhoWouldYouBetOn #Hillary2016 #StandWithHillary #Vote4Hillary #DemDebate #DonateToHillary  https://…\n",
      "76 707202209063280640 RT @sadieark: Read this n the last 2 paragraphs. BS camp sent it out. She did not lie. https://t.co/tOHbBz8QFS https://t.co/OhvRt84ccn\n",
      "77 707202210120257536 More GOP turmoil as another day of voting opens with Trump and Clinton ahead - Washington Post: Washington Post... https://t.co/qNOOqlE8BX\n",
      "78 707202211873423360 #DemTownHall #GOPDebate #FloridaPrimary  https://t.co/Zc4KDuXuuj\n",
      "79 707202212267556864 #CaitlynJenner slams Hillary Clinton: She âcouldn't care less about womenâ | Caitlyn Jenner https://t.co/0W8xCvCqUv\n",
      "80 707202215895633921 #ImWithHer #HillYes #WhoWouldYouBetOn #Hillary2016 #StandWithHillary #Vote4Hillary #DemDebate #DonateToHillary  https://t.co/xOgXr8w6y0\n",
      "81 707202217506246656 RT @AmyDugan: \"@Gabbiedrice78K: #hillary was the second half. It will be on again at 11pm EST tonight https://t.co/kuvJvt3DWA\" I am asleep …\n",
      "82 707202220501180416 RT @craigmart: Clinton intentionally lied to Michigan voters about Bernie's vote for the auto bailout. #FeelTheBern https://t.co/oeJYRUEOqn\n",
      "83 707202222136934400 |@AnnArborNews: #Bernie Sanders attacks Hillary Clinton's #WallStreet ties at A2 rally https://t.co/65pgZksMR7 #FeetheBern #MichiganPrimary\n",
      "84 707202222363283457 More GOP turmoil as another day of voting opens with Trump and Clinton ahead - Washington Post: Washington Post… https://t.co/K5eDHIXVNn\n",
      "85 707202223126814720 RT @ABCLiz: Clinton on Trump (to huge cheers): \"We will not let a person like that ever become president of the United Staes.\"\n",
      "86 707202225005670400 HILLARY CLINTON vs SANDERS – Brutal Debate as Sanders Rips into Hillary over Economy &amp; Elite https://t.co/jVeTZSwCSX\n",
      "87 707202226133938176 RT @AmyDugan: FOX fails to trip up Clinton in the Fox Town Hall  #ImWithHer  #ShesWithUs https://t.co/GHEYg9KqUv\n",
      "88 707202226419204096 RT @HillaryIn2016: 6 times Hillary Clinton nailed it at Sunday's Democratic debate https://t.co/2zWr6nnouX #Hillary2016 #ImWithHer #DemDeba…\n",
      "89 707202226960384000 RT @KatieCVFowler: Why Did Hillary Clinton Need a Private Server? The Answer Makes Bernie Sanders President https://t.co/rh0jFK4OFT via @Hu…\n",
      "90 707202229229514752 New Sanders Radio Ad Sets Record Straight on Clinton’s Dishonest Attack on Auto Industry Rescue  https://t.co/7w3h5QcH6e via @BernieSanders\n",
      "91 707202231326494724 RT @ABCLiz: Clinton on Trump (to huge cheers): \"We will not let a person like that ever become president of the United Staes.\"\n",
      "92 707202236091342848 RT @Katlaya: Although Clinton Won Massachusetts by 2%, Hand Counted Precincts in Massachusetts Favored Bernie Sanders by 17%  https://t.co/…\n",
      "93 707202236217225216 RT @TIME: Hillary Clinton says she supports use of special forces in Libya https://t.co/ikMmE4uVHN\n",
      "94 707202236615499778 RT @RT_America: Hacker ‘Guccifer,’ who uncovered Clinton’s private emails, to be extradited to US https://t.co/c1Y4anFVKV https://t.co/wNW5…\n",
      "95 707202238737989632 RT @nytimes: Hillary Clinton and Bernie Sanders on Fox News? Yes, and it may signal a thaw between Democrats and the network. https://t.co/…\n",
      "96 707202238792355841 @CNN @BernieSanders Clinton will exploit the African American people with her lies. While she has her lunch served to her in her mansion  $$\n",
      "97 707202239870476288 eu nao aguento mais a katu sendo cachorrinha da hillary clinton\n"
     ]
    },
    {
     "ename": "KeyboardInterrupt",
     "evalue": "",
     "output_type": "error",
     "traceback": [
      "\u001b[1;31m---------------------------------------------------------------------------\u001b[0m",
      "\u001b[1;31mKeyboardInterrupt\u001b[0m                         Traceback (most recent call last)",
      "\u001b[1;32m<ipython-input-11-2d9a7b19ccd9>\u001b[0m in \u001b[0;36m<module>\u001b[1;34m()\u001b[0m\n\u001b[0;32m      3\u001b[0m \u001b[0mTOPIC\u001b[0m \u001b[1;33m=\u001b[0m \u001b[1;34m\"testTwitter\"\u001b[0m\u001b[1;33m\u001b[0m\u001b[0m\n\u001b[0;32m      4\u001b[0m \u001b[0mi\u001b[0m\u001b[1;33m=\u001b[0m\u001b[1;36m1\u001b[0m\u001b[1;33m\u001b[0m\u001b[0m\n\u001b[1;32m----> 5\u001b[1;33m \u001b[1;32mfor\u001b[0m \u001b[0mitem\u001b[0m \u001b[1;32min\u001b[0m \u001b[0mr\u001b[0m\u001b[1;33m:\u001b[0m\u001b[1;33m\u001b[0m\u001b[0m\n\u001b[0m\u001b[0;32m      6\u001b[0m   \u001b[1;32mif\u001b[0m \u001b[1;34m'text'\u001b[0m \u001b[1;32min\u001b[0m \u001b[0mitem\u001b[0m\u001b[1;33m:\u001b[0m\u001b[1;33m\u001b[0m\u001b[0m\n\u001b[0;32m      7\u001b[0m     \u001b[1;31m#print(str(i) + \" \" + item['text'])\u001b[0m\u001b[1;33m\u001b[0m\u001b[1;33m\u001b[0m\u001b[0m\n",
      "\u001b[1;32mC:\\Users\\Linh B Ngo\\AppData\\Roaming\\Python\\Python27\\site-packages\\TwitterAPI\\TwitterAPI.pyc\u001b[0m in \u001b[0;36m__iter__\u001b[1;34m(self)\u001b[0m\n\u001b[0;32m    295\u001b[0m         \u001b[1;33m:\u001b[0m\u001b[0mraises\u001b[0m\u001b[1;33m:\u001b[0m \u001b[0mTwitterConnectionError\u001b[0m\u001b[1;33m\u001b[0m\u001b[0m\n\u001b[0;32m    296\u001b[0m         \"\"\"\n\u001b[1;32m--> 297\u001b[1;33m         \u001b[1;32mfor\u001b[0m \u001b[0mitem\u001b[0m \u001b[1;32min\u001b[0m \u001b[0mself\u001b[0m\u001b[1;33m.\u001b[0m\u001b[0m_iter_stream\u001b[0m\u001b[1;33m(\u001b[0m\u001b[1;33m)\u001b[0m\u001b[1;33m:\u001b[0m\u001b[1;33m\u001b[0m\u001b[0m\n\u001b[0m\u001b[0;32m    298\u001b[0m             \u001b[1;32mif\u001b[0m \u001b[0mitem\u001b[0m\u001b[1;33m:\u001b[0m\u001b[1;33m\u001b[0m\u001b[0m\n\u001b[0;32m    299\u001b[0m                 \u001b[1;32mtry\u001b[0m\u001b[1;33m:\u001b[0m\u001b[1;33m\u001b[0m\u001b[0m\n",
      "\u001b[1;32mC:\\Users\\Linh B Ngo\\AppData\\Roaming\\Python\\Python27\\site-packages\\TwitterAPI\\TwitterAPI.pyc\u001b[0m in \u001b[0;36m_iter_stream\u001b[1;34m(self)\u001b[0m\n\u001b[0;32m    264\u001b[0m                 \u001b[1;32mwhile\u001b[0m \u001b[0mTrue\u001b[0m\u001b[1;33m:\u001b[0m\u001b[1;33m\u001b[0m\u001b[0m\n\u001b[0;32m    265\u001b[0m                     \u001b[1;31m# read bytes until item boundary reached\u001b[0m\u001b[1;33m\u001b[0m\u001b[1;33m\u001b[0m\u001b[0m\n\u001b[1;32m--> 266\u001b[1;33m                     \u001b[0mbuf\u001b[0m \u001b[1;33m+=\u001b[0m \u001b[0mself\u001b[0m\u001b[1;33m.\u001b[0m\u001b[0mstream\u001b[0m\u001b[1;33m.\u001b[0m\u001b[0mread\u001b[0m\u001b[1;33m(\u001b[0m\u001b[1;36m1\u001b[0m\u001b[1;33m)\u001b[0m\u001b[1;33m\u001b[0m\u001b[0m\n\u001b[0m\u001b[0;32m    267\u001b[0m                     \u001b[1;32mif\u001b[0m \u001b[1;32mnot\u001b[0m \u001b[0mbuf\u001b[0m\u001b[1;33m:\u001b[0m\u001b[1;33m\u001b[0m\u001b[0m\n\u001b[0;32m    268\u001b[0m                         \u001b[1;31m# check for stall (i.e. no data for 90 seconds)\u001b[0m\u001b[1;33m\u001b[0m\u001b[1;33m\u001b[0m\u001b[0m\n",
      "\u001b[1;32mC:\\Anaconda2\\lib\\site-packages\\requests\\packages\\urllib3\\response.pyc\u001b[0m in \u001b[0;36mread\u001b[1;34m(self, amt, decode_content, cache_content)\u001b[0m\n\u001b[0;32m    299\u001b[0m             \u001b[1;32melse\u001b[0m\u001b[1;33m:\u001b[0m\u001b[1;33m\u001b[0m\u001b[0m\n\u001b[0;32m    300\u001b[0m                 \u001b[0mcache_content\u001b[0m \u001b[1;33m=\u001b[0m \u001b[0mFalse\u001b[0m\u001b[1;33m\u001b[0m\u001b[0m\n\u001b[1;32m--> 301\u001b[1;33m                 \u001b[0mdata\u001b[0m \u001b[1;33m=\u001b[0m \u001b[0mself\u001b[0m\u001b[1;33m.\u001b[0m\u001b[0m_fp\u001b[0m\u001b[1;33m.\u001b[0m\u001b[0mread\u001b[0m\u001b[1;33m(\u001b[0m\u001b[0mamt\u001b[0m\u001b[1;33m)\u001b[0m\u001b[1;33m\u001b[0m\u001b[0m\n\u001b[0m\u001b[0;32m    302\u001b[0m                 \u001b[1;32mif\u001b[0m \u001b[0mamt\u001b[0m \u001b[1;33m!=\u001b[0m \u001b[1;36m0\u001b[0m \u001b[1;32mand\u001b[0m \u001b[1;32mnot\u001b[0m \u001b[0mdata\u001b[0m\u001b[1;33m:\u001b[0m  \u001b[1;31m# Platform-specific: Buggy versions of Python.\u001b[0m\u001b[1;33m\u001b[0m\u001b[0m\n\u001b[0;32m    303\u001b[0m                     \u001b[1;31m# Close the connection when no data is returned\u001b[0m\u001b[1;33m\u001b[0m\u001b[1;33m\u001b[0m\u001b[0m\n",
      "\u001b[1;32mC:\\Anaconda2\\lib\\httplib.pyc\u001b[0m in \u001b[0;36mread\u001b[1;34m(self, amt)\u001b[0m\n\u001b[0;32m    586\u001b[0m \u001b[1;33m\u001b[0m\u001b[0m\n\u001b[0;32m    587\u001b[0m         \u001b[1;32mif\u001b[0m \u001b[0mself\u001b[0m\u001b[1;33m.\u001b[0m\u001b[0mchunked\u001b[0m\u001b[1;33m:\u001b[0m\u001b[1;33m\u001b[0m\u001b[0m\n\u001b[1;32m--> 588\u001b[1;33m             \u001b[1;32mreturn\u001b[0m \u001b[0mself\u001b[0m\u001b[1;33m.\u001b[0m\u001b[0m_read_chunked\u001b[0m\u001b[1;33m(\u001b[0m\u001b[0mamt\u001b[0m\u001b[1;33m)\u001b[0m\u001b[1;33m\u001b[0m\u001b[0m\n\u001b[0m\u001b[0;32m    589\u001b[0m \u001b[1;33m\u001b[0m\u001b[0m\n\u001b[0;32m    590\u001b[0m         \u001b[1;32mif\u001b[0m \u001b[0mamt\u001b[0m \u001b[1;32mis\u001b[0m \u001b[0mNone\u001b[0m\u001b[1;33m:\u001b[0m\u001b[1;33m\u001b[0m\u001b[0m\n",
      "\u001b[1;32mC:\\Anaconda2\\lib\\httplib.pyc\u001b[0m in \u001b[0;36m_read_chunked\u001b[1;34m(self, amt)\u001b[0m\n\u001b[0;32m    628\u001b[0m         \u001b[1;32mwhile\u001b[0m \u001b[0mTrue\u001b[0m\u001b[1;33m:\u001b[0m\u001b[1;33m\u001b[0m\u001b[0m\n\u001b[0;32m    629\u001b[0m             \u001b[1;32mif\u001b[0m \u001b[0mchunk_left\u001b[0m \u001b[1;32mis\u001b[0m \u001b[0mNone\u001b[0m\u001b[1;33m:\u001b[0m\u001b[1;33m\u001b[0m\u001b[0m\n\u001b[1;32m--> 630\u001b[1;33m                 \u001b[0mline\u001b[0m \u001b[1;33m=\u001b[0m \u001b[0mself\u001b[0m\u001b[1;33m.\u001b[0m\u001b[0mfp\u001b[0m\u001b[1;33m.\u001b[0m\u001b[0mreadline\u001b[0m\u001b[1;33m(\u001b[0m\u001b[0m_MAXLINE\u001b[0m \u001b[1;33m+\u001b[0m \u001b[1;36m1\u001b[0m\u001b[1;33m)\u001b[0m\u001b[1;33m\u001b[0m\u001b[0m\n\u001b[0m\u001b[0;32m    631\u001b[0m                 \u001b[1;32mif\u001b[0m \u001b[0mlen\u001b[0m\u001b[1;33m(\u001b[0m\u001b[0mline\u001b[0m\u001b[1;33m)\u001b[0m \u001b[1;33m>\u001b[0m \u001b[0m_MAXLINE\u001b[0m\u001b[1;33m:\u001b[0m\u001b[1;33m\u001b[0m\u001b[0m\n\u001b[0;32m    632\u001b[0m                     \u001b[1;32mraise\u001b[0m \u001b[0mLineTooLong\u001b[0m\u001b[1;33m(\u001b[0m\u001b[1;34m\"chunk size\"\u001b[0m\u001b[1;33m)\u001b[0m\u001b[1;33m\u001b[0m\u001b[0m\n",
      "\u001b[1;32mC:\\Anaconda2\\lib\\socket.pyc\u001b[0m in \u001b[0;36mreadline\u001b[1;34m(self, size)\u001b[0m\n\u001b[0;32m    478\u001b[0m             \u001b[1;32mwhile\u001b[0m \u001b[0mTrue\u001b[0m\u001b[1;33m:\u001b[0m\u001b[1;33m\u001b[0m\u001b[0m\n\u001b[0;32m    479\u001b[0m                 \u001b[1;32mtry\u001b[0m\u001b[1;33m:\u001b[0m\u001b[1;33m\u001b[0m\u001b[0m\n\u001b[1;32m--> 480\u001b[1;33m                     \u001b[0mdata\u001b[0m \u001b[1;33m=\u001b[0m \u001b[0mself\u001b[0m\u001b[1;33m.\u001b[0m\u001b[0m_sock\u001b[0m\u001b[1;33m.\u001b[0m\u001b[0mrecv\u001b[0m\u001b[1;33m(\u001b[0m\u001b[0mself\u001b[0m\u001b[1;33m.\u001b[0m\u001b[0m_rbufsize\u001b[0m\u001b[1;33m)\u001b[0m\u001b[1;33m\u001b[0m\u001b[0m\n\u001b[0m\u001b[0;32m    481\u001b[0m                 \u001b[1;32mexcept\u001b[0m \u001b[0merror\u001b[0m\u001b[1;33m,\u001b[0m \u001b[0me\u001b[0m\u001b[1;33m:\u001b[0m\u001b[1;33m\u001b[0m\u001b[0m\n\u001b[0;32m    482\u001b[0m                     \u001b[1;32mif\u001b[0m \u001b[0me\u001b[0m\u001b[1;33m.\u001b[0m\u001b[0margs\u001b[0m\u001b[1;33m[\u001b[0m\u001b[1;36m0\u001b[0m\u001b[1;33m]\u001b[0m \u001b[1;33m==\u001b[0m \u001b[0mEINTR\u001b[0m\u001b[1;33m:\u001b[0m\u001b[1;33m\u001b[0m\u001b[0m\n",
      "\u001b[1;32mC:\\Anaconda2\\lib\\ssl.pyc\u001b[0m in \u001b[0;36mrecv\u001b[1;34m(self, buflen, flags)\u001b[0m\n\u001b[0;32m    732\u001b[0m                     \u001b[1;34m\"non-zero flags not allowed in calls to recv() on %s\"\u001b[0m \u001b[1;33m%\u001b[0m\u001b[1;33m\u001b[0m\u001b[0m\n\u001b[0;32m    733\u001b[0m                     self.__class__)\n\u001b[1;32m--> 734\u001b[1;33m             \u001b[1;32mreturn\u001b[0m \u001b[0mself\u001b[0m\u001b[1;33m.\u001b[0m\u001b[0mread\u001b[0m\u001b[1;33m(\u001b[0m\u001b[0mbuflen\u001b[0m\u001b[1;33m)\u001b[0m\u001b[1;33m\u001b[0m\u001b[0m\n\u001b[0m\u001b[0;32m    735\u001b[0m         \u001b[1;32melse\u001b[0m\u001b[1;33m:\u001b[0m\u001b[1;33m\u001b[0m\u001b[0m\n\u001b[0;32m    736\u001b[0m             \u001b[1;32mreturn\u001b[0m \u001b[0mself\u001b[0m\u001b[1;33m.\u001b[0m\u001b[0m_sock\u001b[0m\u001b[1;33m.\u001b[0m\u001b[0mrecv\u001b[0m\u001b[1;33m(\u001b[0m\u001b[0mbuflen\u001b[0m\u001b[1;33m,\u001b[0m \u001b[0mflags\u001b[0m\u001b[1;33m)\u001b[0m\u001b[1;33m\u001b[0m\u001b[0m\n",
      "\u001b[1;32mC:\\Anaconda2\\lib\\ssl.pyc\u001b[0m in \u001b[0;36mread\u001b[1;34m(self, len, buffer)\u001b[0m\n\u001b[0;32m    619\u001b[0m                 \u001b[0mv\u001b[0m \u001b[1;33m=\u001b[0m \u001b[0mself\u001b[0m\u001b[1;33m.\u001b[0m\u001b[0m_sslobj\u001b[0m\u001b[1;33m.\u001b[0m\u001b[0mread\u001b[0m\u001b[1;33m(\u001b[0m\u001b[0mlen\u001b[0m\u001b[1;33m,\u001b[0m \u001b[0mbuffer\u001b[0m\u001b[1;33m)\u001b[0m\u001b[1;33m\u001b[0m\u001b[0m\n\u001b[0;32m    620\u001b[0m             \u001b[1;32melse\u001b[0m\u001b[1;33m:\u001b[0m\u001b[1;33m\u001b[0m\u001b[0m\n\u001b[1;32m--> 621\u001b[1;33m                 \u001b[0mv\u001b[0m \u001b[1;33m=\u001b[0m \u001b[0mself\u001b[0m\u001b[1;33m.\u001b[0m\u001b[0m_sslobj\u001b[0m\u001b[1;33m.\u001b[0m\u001b[0mread\u001b[0m\u001b[1;33m(\u001b[0m\u001b[0mlen\u001b[0m \u001b[1;32mor\u001b[0m \u001b[1;36m1024\u001b[0m\u001b[1;33m)\u001b[0m\u001b[1;33m\u001b[0m\u001b[0m\n\u001b[0m\u001b[0;32m    622\u001b[0m             \u001b[1;32mreturn\u001b[0m \u001b[0mv\u001b[0m\u001b[1;33m\u001b[0m\u001b[0m\n\u001b[0;32m    623\u001b[0m         \u001b[1;32mexcept\u001b[0m \u001b[0mSSLError\u001b[0m \u001b[1;32mas\u001b[0m \u001b[0mx\u001b[0m\u001b[1;33m:\u001b[0m\u001b[1;33m\u001b[0m\u001b[0m\n",
      "\u001b[1;31mKeyboardInterrupt\u001b[0m: "
     ]
    }
   ],
   "source": [
    "kafka = KafkaClient(\"dsci002.palmetto.clemson.edu:6667\")\n",
    "producer = SimpleProducer(kafka)\n",
    "TOPIC = \"testTwitter\"\n",
    "i=1\n",
    "for item in r:\n",
    "  if 'text' in item:\n",
    "    #print(str(i) + \" \" + item['text'])\n",
    "    print(str(i) + \" \" + str(item['id']) + \" \" + str(item['text'].encode(\"utf-8\")))\n",
    "    Tweet_content = str(i) + \" \" + str(item['text'].encode(\"utf-8\"))\n",
    "#    producer.send_messages(TOPIC, Tweet_content + str(datetime.now().time()) )\n",
    "    # sending full Tweet\n",
    "    producer.send_messages(TOPIC, json.dumps(item))\n",
    "    i += 1"
   ]
  },
  {
   "cell_type": "code",
   "execution_count": null,
   "metadata": {
    "collapsed": true
   },
   "outputs": [],
   "source": []
  }
 ],
 "metadata": {
  "kernelspec": {
   "display_name": "Python 2",
   "language": "python",
   "name": "python2"
  },
  "language_info": {
   "codemirror_mode": {
    "name": "ipython",
    "version": 2
   },
   "file_extension": ".py",
   "mimetype": "text/x-python",
   "name": "python",
   "nbconvert_exporter": "python",
   "pygments_lexer": "ipython2",
   "version": "2.7.11"
  }
 },
 "nbformat": 4,
 "nbformat_minor": 0
}
